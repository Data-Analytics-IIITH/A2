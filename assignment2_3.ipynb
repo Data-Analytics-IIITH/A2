{
 "cells": [
  {
   "cell_type": "markdown",
   "metadata": {},
   "source": [
    "# Bottom-Up Cube (BUC) Algorithm"
   ]
  },
  {
   "cell_type": "code",
   "execution_count": null,
   "metadata": {},
   "outputs": [],
   "source": [
    "import pandas as pd\n",
    "import numpy as np\n",
    "import time\n",
    "import matplotlib.pyplot as plt\n",
    "from itertools import combinations\n",
    "from memory_profiler import profile"
   ]
  },
  {
   "cell_type": "markdown",
   "metadata": {},
   "source": [
    "## In-Memory Implementation"
   ]
  },
  {
   "cell_type": "code",
   "execution_count": 2,
   "metadata": {},
   "outputs": [],
   "source": [
    "class BUC:\n",
    "    def __init__(self,numDims,cardinality,minsup,outputRec,dataCount):\n",
    "        self.numDims = numDims # The total number of  dimensions. \n",
    "        self.cardinality = cardinality # The cardinality of each  dimension. \n",
    "        self.minsup = minsup # The minimum number of  tuples in a partition for  it to  be  output. \n",
    "        self.outputRec = outputRec # The current output record. \n",
    "        self.dataCount = dataCount # Stores the size  of  each  partition. dataCount[i] is  a  list of  integers of  size cardinality[i].\n",
    "\n",
    "    def aggregate(self,input):\n",
    "        self.data = [list(x) for x in input]\n",
    "\n",
    "    def Partition(self,input,d,C,dataCount):\n",
    "        for i in range(C):\n",
    "            dataCount[i] = 0 \n",
    "        for i in range(len(input)):\n",
    "            dataCount[input[i][d]] += 1\n",
    "        for i in range(1,C):\n",
    "            dataCount[i] += dataCount[i-1]\n",
    "\n",
    "    def writeAncestors(self,dim):\n",
    "        for i in range(dim):\n",
    "            print(self.outputRec[i],end = \" \")\n",
    "        print()\n",
    "\n",
    "    def run(self,input,dim):\n",
    "        self.aggregate(input)\n",
    "        input = self.data\n",
    "        if len(input) == 1:\n",
    "            self.writeAncestors(dim)\n",
    "            return\n",
    "        \n",
    "        # write the output record\n",
    "        for d in range(self.numDims):\n",
    "            C = self.cardinality[d]\n",
    "            self.Partition(input,d,C,self.dataCount[d],dim) \n",
    "            k = 0\n",
    "            for i in range(C):\n",
    "                c = self.dataCount[d][i]\n",
    "                if c >= self.minsup:\n",
    "                    self.outputRec[d] = input[k][d]\n",
    "                    self.run(input[k:],dim+1)\n",
    "                k += c\n",
    "        self.outputRec[dim] = None\n",
    "    \n",
    "    def print_result(self):\n",
    "        self.run(self.data,0)\n",
    "    \n",
    "    def get_result(self):\n",
    "        return self.result\n"
   ]
  }
 ],
 "metadata": {
  "kernelspec": {
   "display_name": "Python 3",
   "language": "python",
   "name": "python3"
  },
  "language_info": {
   "codemirror_mode": {
    "name": "ipython",
    "version": 3
   },
   "file_extension": ".py",
   "mimetype": "text/x-python",
   "name": "python",
   "nbconvert_exporter": "python",
   "pygments_lexer": "ipython3",
   "version": "3.12.1"
  }
 },
 "nbformat": 4,
 "nbformat_minor": 2
}
